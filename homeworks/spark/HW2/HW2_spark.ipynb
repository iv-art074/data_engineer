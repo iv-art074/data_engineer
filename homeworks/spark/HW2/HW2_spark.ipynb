{
  "nbformat": 4,
  "nbformat_minor": 0,
  "metadata": {
    "colab": {
      "provenance": []
    },
    "kernelspec": {
      "name": "python3",
      "display_name": "Python 3"
    },
    "language_info": {
      "name": "python"
    }
  },
  "cells": [
    {
      "cell_type": "markdown",
      "source": [
        "Выберите 15 стран с наибольшим процентом переболевших на 31 марта (в выходящем датасете необходимы колонки: iso_code, страна, процент переболевших)  "
      ],
      "metadata": {
        "id": "9yMvTZH_hQDi"
      }
    },
    {
      "cell_type": "code",
      "execution_count": 2,
      "metadata": {
        "colab": {
          "base_uri": "https://localhost:8080/"
        },
        "id": "X74ixFOK26UQ",
        "outputId": "95af89df-2c23-4bff-affb-e0689c1de6fc"
      },
      "outputs": [
        {
          "output_type": "stream",
          "name": "stdout",
          "text": [
            "\u001b[2K     \u001b[90m━━━━━━━━━━━━━━━━━━━━━━━━━━━━━━━━━━━━━━━━\u001b[0m \u001b[32m317.0/317.0 MB\u001b[0m \u001b[31m4.7 MB/s\u001b[0m eta \u001b[36m0:00:00\u001b[0m\n",
            "\u001b[?25h  Preparing metadata (setup.py) ... \u001b[?25l\u001b[?25hdone\n",
            "  Building wheel for pyspark (setup.py) ... \u001b[?25l\u001b[?25hdone\n"
          ]
        }
      ],
      "source": [
        "pip install --quiet pyspark"
      ]
    },
    {
      "cell_type": "code",
      "source": [
        "from pyspark.sql import SparkSession\n",
        "\n",
        "spark = SparkSession.builder.appName(\"Practice\").getOrCreate()"
      ],
      "metadata": {
        "id": "SfkSlqsUcB9G"
      },
      "execution_count": 3,
      "outputs": []
    },
    {
      "cell_type": "code",
      "source": [
        "from pyspark import SparkFiles\n",
        "\n",
        "covid_data_file_url = \"https://raw.githubusercontent.com/glincow/netology-spark-sql/main/data/covid-data.csv\"\n",
        "spark.sparkContext.addFile(covid_data_file_url)\n",
        "file_path  = 'file://' + SparkFiles.get('covid-data.csv')\n",
        "df = spark.read.option('inferSchema', 'true').option('header', 'true').csv(file_path)"
      ],
      "metadata": {
        "id": "n1xPqXqi3wVW"
      },
      "execution_count": 4,
      "outputs": []
    },
    {
      "cell_type": "code",
      "source": [
        "from pyspark.sql import functions as F"
      ],
      "metadata": {
        "id": "vAqGGv876F33"
      },
      "execution_count": 5,
      "outputs": []
    },
    {
      "cell_type": "code",
      "source": [
        "ITOG = (df\n",
        "  .select('iso_code', 'location', F.round(F.col('total_cases').cast('integer') / F.col('population').cast('integer')*100,2)\n",
        "  .alias('процент переболевших')).filter(F.col('date').isin('2021-03-31', '2021-03-31'))\n",
        "  .orderBy(F.col('процент переболевших').desc())\n",
        "  .show(15))"
      ],
      "metadata": {
        "colab": {
          "base_uri": "https://localhost:8080/"
        },
        "id": "lrTxMIkWcUpt",
        "outputId": "9800f5a6-740e-4d03-8549-a06b0452d477"
      },
      "execution_count": 6,
      "outputs": [
        {
          "output_type": "stream",
          "name": "stdout",
          "text": [
            "+--------+-------------+--------------------+\n",
            "|iso_code|     location|процент переболевших|\n",
            "+--------+-------------+--------------------+\n",
            "|     AND|      Andorra|               15.54|\n",
            "|     MNE|   Montenegro|               14.52|\n",
            "|     CZE|      Czechia|               14.31|\n",
            "|     SMR|   San Marino|               13.94|\n",
            "|     SVN|     Slovenia|               10.37|\n",
            "|     LUX|   Luxembourg|                9.85|\n",
            "|     ISR|       Israel|                9.63|\n",
            "|     USA|United States|                 9.2|\n",
            "|     SRB|       Serbia|                8.83|\n",
            "|     BHR|      Bahrain|                8.49|\n",
            "|     PAN|       Panama|                8.23|\n",
            "|     PRT|     Portugal|                8.06|\n",
            "|     EST|      Estonia|                8.02|\n",
            "|     SWE|       Sweden|                7.97|\n",
            "|     LTU|    Lithuania|                7.94|\n",
            "+--------+-------------+--------------------+\n",
            "only showing top 15 rows\n",
            "\n"
          ]
        }
      ]
    },
    {
      "cell_type": "markdown",
      "source": [
        "Top 10 стран с максимальным зафиксированным кол-вом новых случаев за последнюю неделю марта 2021 в отсортированном порядке по убыванию\n",
        "(в выходящем датасете необходимы колонки: число, страна, кол-во новых случаев)"
      ],
      "metadata": {
        "id": "wY19zZT7hdh8"
      }
    },
    {
      "cell_type": "code",
      "source": [
        "from pyspark.sql import Window"
      ],
      "metadata": {
        "id": "o8qRcC9oc7SK"
      },
      "execution_count": 7,
      "outputs": []
    },
    {
      "cell_type": "code",
      "source": [
        "res0 = df.select(F.col(\"date\").alias(\"Число\"),\n",
        "                 F.col(\"location\").alias(\"Страна\"),\n",
        "                 F.col(\"new_cases\").alias(\"кол-во новых случаев\")).where(df[3].between(\"2021-03-25\", \"2021-03-31\")).groupBy(\"Страна\",\"Число\").agg(F.sum(\"кол-во новых случаев\").alias(\"кол-во новых случаев\"))"
      ],
      "metadata": {
        "id": "yWh-IUN7k1Jj"
      },
      "execution_count": 8,
      "outputs": []
    },
    {
      "cell_type": "code",
      "source": [
        "res0.show()"
      ],
      "metadata": {
        "colab": {
          "base_uri": "https://localhost:8080/"
        },
        "id": "hHulYYRsqsuL",
        "outputId": "1302708d-7b97-44f2-9f9f-f4a0222171ad"
      },
      "execution_count": 9,
      "outputs": [
        {
          "output_type": "stream",
          "name": "stdout",
          "text": [
            "+--------------------+----------+--------------------+\n",
            "|              Страна|     Число|кол-во новых случаев|\n",
            "+--------------------+----------+--------------------+\n",
            "|              Africa|2021-03-25|             12490.0|\n",
            "|             Algeria|2021-03-28|                86.0|\n",
            "|           Australia|2021-03-26|                13.0|\n",
            "|          Bangladesh|2021-03-31|              5358.0|\n",
            "|             Comoros|2021-03-25|                 5.0|\n",
            "|              Cyprus|2021-03-31|               434.0|\n",
            "|                Iraq|2021-03-27|              5062.0|\n",
            "|             Armenia|2021-03-28|               777.0|\n",
            "|               Benin|2021-03-31|                 0.0|\n",
            "|            Cameroon|2021-03-27|                 0.0|\n",
            "|                Cuba|2021-03-27|               950.0|\n",
            "|             Finland|2021-03-31|               607.0|\n",
            "|              Guinea|2021-03-31|               115.0|\n",
            "|             Iceland|2021-03-29|                20.0|\n",
            "|             Lebanon|2021-03-30|              2668.0|\n",
            "|               Libya|2021-03-31|               706.0|\n",
            "|              Mexico|2021-03-25|              5787.0|\n",
            "|Central African R...|2021-03-30|                73.0|\n",
            "|Democratic Republ...|2021-03-29|                82.0|\n",
            "|              Jersey|2021-03-31|                NULL|\n",
            "+--------------------+----------+--------------------+\n",
            "only showing top 20 rows\n",
            "\n"
          ]
        }
      ]
    },
    {
      "cell_type": "code",
      "source": [
        "#оконная функция\n",
        "Specs = Window.partitionBy(\"Страна\").orderBy(F.col(\"кол-во новых случаев\").desc())\n",
        "res1 = res0.withColumn(\"№\", F.row_number().over(Specs))\n"
      ],
      "metadata": {
        "id": "yEErDyh7ro-3"
      },
      "execution_count": 24,
      "outputs": []
    },
    {
      "cell_type": "code",
      "source": [
        "#Итого с удалением обобщающих названий\n",
        "res1.filter(F.col(\"№\") == 1).filter(~F.col(\"Страна\").isin(\"World\", \"Europe\", \"European Union\", \"Asia\",\"South America\",\"North America\", \"United States\")).select(\"Число\", \"Страна\", \"кол-во новых случаев\").orderBy(F.col(\"кол-во новых случаев\").desc()).show()"
      ],
      "metadata": {
        "colab": {
          "base_uri": "https://localhost:8080/"
        },
        "id": "wrGhwK-Mr5rZ",
        "outputId": "458ac231-3351-4789-aebb-d60d11482230"
      },
      "execution_count": 25,
      "outputs": [
        {
          "output_type": "stream",
          "name": "stdout",
          "text": [
            "+----------+-----------+--------------------+\n",
            "|     Число|     Страна|кол-во новых случаев|\n",
            "+----------+-----------+--------------------+\n",
            "|2021-03-25|     Brazil|            100158.0|\n",
            "|2021-03-31|      India|             72330.0|\n",
            "|2021-03-31|     France|             59054.0|\n",
            "|2021-03-31|     Turkey|             39302.0|\n",
            "|2021-03-26|     Poland|             35145.0|\n",
            "|2021-03-31|    Germany|             25014.0|\n",
            "|2021-03-26|      Italy|             24076.0|\n",
            "|2021-03-25|       Peru|             19206.0|\n",
            "|2021-03-26|     Africa|             18544.0|\n",
            "|2021-03-26|    Ukraine|             18226.0|\n",
            "|2021-03-30|     Sweden|             16427.0|\n",
            "|2021-03-31|  Argentina|             16056.0|\n",
            "|2021-03-29|      Spain|             15501.0|\n",
            "|2021-03-26|    Hungary|             11265.0|\n",
            "|2021-03-31|       Iran|             10330.0|\n",
            "|2021-03-29|Philippines|             10002.0|\n",
            "|2021-03-30|     Serbia|              9983.0|\n",
            "|2021-03-27|Netherlands|              9160.0|\n",
            "|2021-03-25|     Russia|              9128.0|\n",
            "|2021-03-25|    Czechia|              8851.0|\n",
            "+----------+-----------+--------------------+\n",
            "only showing top 20 rows\n",
            "\n"
          ]
        }
      ]
    },
    {
      "cell_type": "markdown",
      "source": [
        "Посчитайте изменение случаев относительно предыдущего дня в России за последнюю неделю марта 2021. (например: в россии вчера было 9150 , сегодня 8763, итог: -387) (в выходящем датасете необходимы колонки: число, кол-во новых случаев вчера, кол-во новых случаев сегодня, дельта)"
      ],
      "metadata": {
        "id": "COtB35yy2ulT"
      }
    },
    {
      "cell_type": "code",
      "source": [
        "res2 = df.select(F.col(\"date\").alias(\"Число\"),\n",
        "                 F.col(\"new_cases\").alias(\"Кол-во новых случаев вчера\")).where(df[3].between(\"2021-03-25\", \"2021-03-31\")).where(df[2] == \"Russia\")"
      ],
      "metadata": {
        "id": "q-Vc6eZ9sBWf"
      },
      "execution_count": 51,
      "outputs": []
    },
    {
      "cell_type": "code",
      "source": [
        "# окошко\n",
        "specs = Window.orderBy(F.col(\"Число\"))\n",
        "res2 = res2.withColumn(\"Кол-во новых случаев сегодня\", F.lag(F.col(\"Кол-во новых случаев вчера\")).over(specs))\n",
        "res2.show()"
      ],
      "metadata": {
        "colab": {
          "base_uri": "https://localhost:8080/"
        },
        "id": "5sbSuZSejSR5",
        "outputId": "a2fbb628-1043-408b-9d8e-6b12f11fc83e"
      },
      "execution_count": 52,
      "outputs": [
        {
          "output_type": "stream",
          "name": "stdout",
          "text": [
            "+----------+--------------------------+----------------------------+\n",
            "|     Число|Кол-во новых случаев вчера|Кол-во новых случаев сегодня|\n",
            "+----------+--------------------------+----------------------------+\n",
            "|2021-03-25|                    9128.0|                        NULL|\n",
            "|2021-03-26|                    9073.0|                      9128.0|\n",
            "|2021-03-27|                    8783.0|                      9073.0|\n",
            "|2021-03-28|                    8979.0|                      8783.0|\n",
            "|2021-03-29|                    8589.0|                      8979.0|\n",
            "|2021-03-30|                    8162.0|                      8589.0|\n",
            "|2021-03-31|                    8156.0|                      8162.0|\n",
            "+----------+--------------------------+----------------------------+\n",
            "\n"
          ]
        }
      ]
    },
    {
      "cell_type": "code",
      "source": [
        "res2.select(\"Число\", \"Кол-во новых случаев вчера\", \"Кол-во новых случаев сегодня\",\n",
        "            (F.col(\"Кол-во новых случаев вчера\") - F.col(\"Кол-во новых случаев сегодня\")).alias(\"Дельта\")\n",
        "            ).where(F.col(\"Кол-во новых случаев сегодня\").isNotNull()).orderBy(F.col(\"Число\").desc()).show()\n"
      ],
      "metadata": {
        "colab": {
          "base_uri": "https://localhost:8080/"
        },
        "id": "X-KBilalreAI",
        "outputId": "a3c1d8b4-d8bb-4e18-c63e-003baa4984af"
      },
      "execution_count": 53,
      "outputs": [
        {
          "output_type": "stream",
          "name": "stdout",
          "text": [
            "+----------+--------------------------+----------------------------+------+\n",
            "|     Число|Кол-во новых случаев вчера|Кол-во новых случаев сегодня|Дельта|\n",
            "+----------+--------------------------+----------------------------+------+\n",
            "|2021-03-31|                    8156.0|                      8162.0|  -6.0|\n",
            "|2021-03-30|                    8162.0|                      8589.0|-427.0|\n",
            "|2021-03-29|                    8589.0|                      8979.0|-390.0|\n",
            "|2021-03-28|                    8979.0|                      8783.0| 196.0|\n",
            "|2021-03-27|                    8783.0|                      9073.0|-290.0|\n",
            "|2021-03-26|                    9073.0|                      9128.0| -55.0|\n",
            "+----------+--------------------------+----------------------------+------+\n",
            "\n"
          ]
        }
      ]
    }
  ]
}